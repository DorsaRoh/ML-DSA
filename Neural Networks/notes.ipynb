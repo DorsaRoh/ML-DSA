{
 "cells": [
  {
   "cell_type": "markdown",
   "metadata": {},
   "source": [
    "# Neural Networks"
   ]
  },
  {
   "cell_type": "markdown",
   "metadata": {},
   "source": [
    "### Different types\n",
    "\n",
    "- Multilayer perceptron (plain vanilla neural network)"
   ]
  },
  {
   "cell_type": "markdown",
   "metadata": {},
   "source": [
    "### Key Vocabulary\n",
    "\n",
    "- **Neuron**: thing that holds a number\n",
    "    - The number held is called the neuron's **activation**\n",
    "\n",
    "- **Hidden Layers**: layers between the input & output layers\n",
    "    - the activations from one layer determine the activations of the next layer"
   ]
  },
  {
   "cell_type": "code",
   "execution_count": null,
   "metadata": {},
   "outputs": [],
   "source": []
  }
 ],
 "metadata": {
  "language_info": {
   "name": "python"
  }
 },
 "nbformat": 4,
 "nbformat_minor": 2
}
