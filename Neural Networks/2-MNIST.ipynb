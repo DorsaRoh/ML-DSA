{
 "cells": [
  {
   "cell_type": "markdown",
   "metadata": {},
   "source": [
    "# MNIST Digit Classification (from scratch!)"
   ]
  },
  {
   "cell_type": "markdown",
   "metadata": {},
   "source": [
    "Background: MNIST is a dataset of images of single digits. \n",
    "\n",
    "Here, you will find the code for digit classification of the MNIST dataset (digits 1-9) **from scratch**.\n",
    "\n",
    "<br>My goal is to investigate the differences and similarity between **multilayer perceptons (a type of artificial neural network) are to the human brain (biological neural networks)**."
   ]
  },
  {
   "cell_type": "markdown",
   "metadata": {},
   "source": [
    "### Key Notes\n",
    "\n",
    "- Every progressive layer in the network corresponds to increasingly larger and larger edges. Etc. The second layer corresponds to small edges, and the next layer corresponds to overall shapes (ex. a loop) from those small edges\n",
    "    - pixels -> edges -> patterns -> digits\n",
    "- "
   ]
  },
  {
   "cell_type": "markdown",
   "metadata": {},
   "source": [
    "### Architecture\n",
    "\n",
    "- input layer: 784 neurons (since 784 pixels per image)\n",
    "    - each neuron holds one pixel of an image\n",
    "        - its activation value (the number the neuron holds) is the brightness of the pixel (between 0-1, 0 for pure black & 1 for white)\n",
    "- 2 hidden layers\n",
    "    - hopefully (since somewhat arbitrary choice):\n",
    "    - first layer: corresponds to \"little edges\" in the images\n",
    "    - second layer: corresponds to patterns from the edges (from the first layer)\n",
    "- output layer: the neuron with the highest firing represents the digit that the image shows"
   ]
  }
 ],
 "metadata": {
  "language_info": {
   "name": "python"
  }
 },
 "nbformat": 4,
 "nbformat_minor": 2
}
