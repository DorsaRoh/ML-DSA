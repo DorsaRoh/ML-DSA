{
 "cells": [
  {
   "cell_type": "markdown",
   "metadata": {},
   "source": [
    "# Neural Networks"
   ]
  },
  {
   "cell_type": "markdown",
   "metadata": {},
   "source": [
    "### Different types\n",
    "\n",
    "- Multilayer perceptron (plain vanilla neural network)"
   ]
  },
  {
   "cell_type": "markdown",
   "metadata": {},
   "source": [
    "### Key Vocabulary\n",
    "\n",
    "- **Neuron**: thing that holds a number\n",
    "    - The number held is called the neuron's **activation**\n",
    "        - activation values are ideally between 0 - 1 (converted as such using the **sigmoid function**!)\n",
    "\n",
    "- **Hidden Layers**: layers between the input & output layers\n",
    "    - the activations from one layer determine the activations of the next layer\n",
    "\n",
    "- **weights**: numbers assigned to each connection between each INDIVIDUAL neuron and EVERY neuron of the next layer\n",
    "    - e.g. tweakable parameters to capture patterns between layers\n",
    "\n",
    "    - ex. weights of the first layer are numbers assigned to each between between each INDIVIDUAL neuron of the first layer, and EVERY neuron of the second layer\n",
    "    - \n",
    "\n"
   ]
  },
  {
   "cell_type": "markdown",
   "metadata": {},
   "source": [
    "### Questions to ponder...\n",
    "\n",
    "- How similar *are* artificial neural networks to **biological** ones? The human brain?"
   ]
  }
 ],
 "metadata": {
  "language_info": {
   "name": "python"
  }
 },
 "nbformat": 4,
 "nbformat_minor": 2
}
