{
 "cells": [
  {
   "cell_type": "markdown",
   "metadata": {},
   "source": [
    "## Notes\n",
    "\n",
    "- For artificial NNs, since \"learning\" is just minimizing a cost function, its important for it to have a nice smooth output (so that local minimum can be found by taking little steps downhill).\n",
    "    - as a result, **artificial NNs have continuously ranging activations. rather than being simply active or inactive in a binary way, like biological NNs are**"
   ]
  }
 ],
 "metadata": {
  "language_info": {
   "name": "python"
  }
 },
 "nbformat": 4,
 "nbformat_minor": 2
}
